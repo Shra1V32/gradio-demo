{
 "cells": [
  {
   "attachments": {},
   "cell_type": "markdown",
   "metadata": {},
   "source": [
    "Importing Modules"
   ]
  },
  {
   "cell_type": "code",
   "execution_count": 1,
   "metadata": {},
   "outputs": [
    {
     "name": "stderr",
     "output_type": "stream",
     "text": [
      "/home/shravan/.local/lib/python3.11/site-packages/tqdm/auto.py:22: TqdmWarning: IProgress not found. Please update jupyter and ipywidgets. See https://ipywidgets.readthedocs.io/en/stable/user_install.html\n",
      "  from .autonotebook import tqdm as notebook_tqdm\n"
     ]
    }
   ],
   "source": [
    "import pandas as pd\n",
    "from sklearn.linear_model import LinearRegression\n",
    "from sklearn.model_selection import train_test_split\n",
    "from sklearn.preprocessing import OrdinalEncoder\n",
    "import gradio as gr\n",
    "import matplotlib.pyplot as plt\n",
    "import numpy as np\n",
    "\n",
    "# Importing data\n",
    "gh_database = pd.read_csv(\"co2_emissions_kt_by_country.csv\")\n",
    "countries = gh_database['country_name'].unique().tolist()\n",
    "p = dict(zip(gh_database['country_name'], gh_database['country_code']))\n",
    "\n"
   ]
  },
  {
   "cell_type": "code",
   "execution_count": 3,
   "metadata": {},
   "outputs": [
    {
     "name": "stdout",
     "output_type": "stream",
     "text": [
      "0.0101375201812276\n"
     ]
    }
   ],
   "source": [
    "# Using linear regression to be able to predict the values\n",
    "X = gh_database[['country_name', 'year']]\n",
    "y = gh_database['value']\n",
    "X_train, X_test, y_train, y_test = train_test_split(X, y, test_size=0.33)\n",
    "\n",
    "encoder = OrdinalEncoder()\n",
    "X_train_encoded = X_train.copy()\n",
    "X_train_encoded['country_name'] = encoder.fit_transform(X_train[['country_name']])\n",
    "X_test_encoded = X_test.copy()\n",
    "X_test_encoded['country_name'] = encoder.transform(X_test[['country_name']])\n",
    "\n",
    "model = LinearRegression()\n",
    "model.fit(X_train_encoded, y_train)\n"
   ]
  },
  {
   "cell_type": "code",
   "execution_count": 4,
   "metadata": {},
   "outputs": [
    {
     "name": "stderr",
     "output_type": "stream",
     "text": [
      "/home/shravan/.local/lib/python3.11/site-packages/gradio/inputs.py:217: UserWarning: Usage of gradio.inputs is deprecated, and will not be supported in the future, please import your component from gradio.components\n",
      "  warnings.warn(\n",
      "/home/shravan/.local/lib/python3.11/site-packages/gradio/deprecation.py:40: UserWarning: `optional` parameter is deprecated, and it has no effect\n",
      "  warnings.warn(value)\n",
      "/home/shravan/.local/lib/python3.11/site-packages/gradio/inputs.py:89: UserWarning: Usage of gradio.inputs is deprecated, and will not be supported in the future, please import your component from gradio.components\n",
      "  warnings.warn(\n",
      "/home/shravan/.local/lib/python3.11/site-packages/gradio/outputs.py:22: UserWarning: Usage of gradio.outputs is deprecated, and will not be supported in the future, please import your components from gradio.components\n",
      "  warnings.warn(\n",
      "/home/shravan/.local/lib/python3.11/site-packages/gradio/outputs.py:43: UserWarning: Usage of gradio.outputs is deprecated, and will not be supported in the future, please import your components from gradio.components\n",
      "  warnings.warn(\n"
     ]
    },
    {
     "name": "stdout",
     "output_type": "stream",
     "text": [
      "Running on local URL:  http://127.0.0.1:7860\n",
      "\n",
      "To create a public link, set `share=True` in `launch()`.\n"
     ]
    },
    {
     "data": {
      "text/html": [
       "<div><iframe src=\"http://127.0.0.1:7860/\" width=\"100%\" height=\"500\" allow=\"autoplay; camera; microphone; clipboard-read; clipboard-write;\" frameborder=\"0\" allowfullscreen></iframe></div>"
      ],
      "text/plain": [
       "<IPython.core.display.HTML object>"
      ]
     },
     "metadata": {},
     "output_type": "display_data"
    },
    {
     "data": {
      "text/plain": []
     },
     "execution_count": 4,
     "metadata": {},
     "output_type": "execute_result"
    },
    {
     "name": "stderr",
     "output_type": "stream",
     "text": [
      "/home/shravan/.local/lib/python3.11/site-packages/sklearn/base.py:439: UserWarning: X does not have valid feature names, but OrdinalEncoder was fitted with feature names\n",
      "  warnings.warn(\n",
      "/home/shravan/.local/lib/python3.11/site-packages/sklearn/base.py:439: UserWarning: X does not have valid feature names, but LinearRegression was fitted with feature names\n",
      "  warnings.warn(\n",
      "/tmp/ipykernel_270/1779538766.py:13: UserWarning: FixedFormatter should only be used together with FixedLocator\n",
      "  ax.set_xticklabels(years,rotation=90)\n"
     ]
    }
   ],
   "source": [
    "# Function to take in inputs & send out output to the gradio interface\n",
    "def predict_emissions(country, year):\n",
    "    country_encoded = encoder.transform([[country]])\n",
    "    data = [[country_encoded[0][0], year]]\n",
    "    prediction = model.predict(data)\n",
    "    country_data = gh_database[gh_database['country_name'] == country]\n",
    "    emissions_data = country_data['value']\n",
    "    years = country_data['year']\n",
    "    fig, ax = plt.subplots()\n",
    "    ax.plot(years, emissions_data)\n",
    "    ax.set_xlabel(\"Year\")\n",
    "    ax.set_ylabel(\"Emissions\")\n",
    "    ax.set_title(f\"CO2 Emissions for {country}\")\n",
    "    ax.set_xticklabels(years,rotation=90)\n",
    "    fig.canvas.draw()\n",
    "    plot_img = np.frombuffer(fig.canvas.tostring_rgb(), dtype=np.uint8)\n",
    "    plot_img = plot_img.reshape(fig.canvas.get_width_height()[::-1] + (3,))\n",
    "    plt.clf()\n",
    "    return ('{:.2f} metric tons per capita'.format(prediction[0]), plot_img)\n",
    "\n",
    "# Specify the input components (Specified under List)\n",
    "inputs = [\n",
    "    gr.inputs.Dropdown(countries, label='Country'),\n",
    "    gr.inputs.Slider(minimum=1990, maximum=2030, step=1, default=1999, label='Year')\n",
    "]\n",
    "\n",
    "# Specify the output components (Can be specified under a list)\n",
    "output = [\n",
    "    gr.outputs.Textbox(label='CO2 Emissions'),\n",
    "    gr.outputs.Image(type='numpy')\n",
    "]\n",
    "\n",
    "# Defining what our webapp must consist\n",
    "interface = gr.Interface(fn=predict_emissions, inputs=inputs, outputs=output, title='CO2 Emissions Predictor')\n",
    "# To deploy the webapp directly to the web browser or notebook\n",
    "interface.launch() # Use variable argument 'share=True' for creating a public URL\n"
   ]
  }
 ],
 "metadata": {
  "kernelspec": {
   "display_name": "Python 3",
   "language": "python",
   "name": "python3"
  },
  "language_info": {
   "codemirror_mode": {
    "name": "ipython",
    "version": 3
   },
   "file_extension": ".py",
   "mimetype": "text/x-python",
   "name": "python",
   "nbconvert_exporter": "python",
   "pygments_lexer": "ipython3",
   "version": "3.11.2"
  },
  "orig_nbformat": 4,
  "vscode": {
   "interpreter": {
    "hash": "916dbcbb3f70747c44a77c7bcd40155683ae19c65e1c03b4aa3499c5328201f1"
   }
  }
 },
 "nbformat": 4,
 "nbformat_minor": 2
}
